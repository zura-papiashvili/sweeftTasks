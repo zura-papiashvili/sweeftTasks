{
 "cells": [
  {
   "cell_type": "markdown",
   "id": "ce258407",
   "metadata": {},
   "source": [
    "# სატესტო დავალებები\n"
   ]
  },
  {
   "cell_type": "markdown",
   "id": "1accd71a",
   "metadata": {},
   "source": [
    "\n",
    "1.\tდაწერეთ ფუნქცია, რომელსაც გადაეცემა string-ი და აბრუნებს True-ს თუ  გადაცემული string-ი პალინდრომია, წინააღმდეგ შემთხვევაში False-ს. პალინდრომი არის ტექსტი რომელიც ერთნაირად იკითხება ორივე მხრიდან, მაგ: radar, level, rotor, abcdcba."
   ]
  },
  {
   "cell_type": "code",
   "execution_count": 4,
   "id": "ec1659d2",
   "metadata": {},
   "outputs": [
    {
     "name": "stdout",
     "output_type": "stream",
     "text": [
      "True\n",
      "True\n",
      "False\n"
     ]
    }
   ],
   "source": [
    "def isPalindrom(text):\n",
    "    if text==text[::-1]:\n",
    "        return True\n",
    "    return False\n",
    "# Check:\n",
    "print(isPalindrom(\"radar\"))\n",
    "print(isPalindrom(\"abcdcba\"))\n",
    "print(isPalindrom(\"notpalindrom\"))\n",
    "\n",
    "\n",
    "    "
   ]
  },
  {
   "cell_type": "markdown",
   "id": "73117e21",
   "metadata": {},
   "source": [
    "2.\tგვაქვს 1,5,10,20 და 50 თეთრიანი მონეტები. დაწერეთ ფუნქცია, რომელსაც გადაეცემა თანხა (თეთრებში) და აბრუნებს მონეტების მინიმალურ რაოდენობას, რომლითაც შეგვიძლია ეს თანხა დავახურდაოთ."
   ]
  },
  {
   "cell_type": "code",
   "execution_count": 12,
   "id": "004ae69b",
   "metadata": {},
   "outputs": [
    {
     "name": "stdout",
     "output_type": "stream",
     "text": [
      "5\n",
      "5\n",
      "3\n"
     ]
    }
   ],
   "source": [
    "import math\n",
    "def change(amount):\n",
    "    count=0\n",
    "    for coin in [50,20,10,5,1]:\n",
    "        nCoin = math.floor(amount/coin)\n",
    "        count+=nCoin\n",
    "        amount-=coin*nCoin\n",
    "        if amount==0:\n",
    "            break\n",
    "    return count\n",
    "\n",
    "\n",
    "\n",
    "#Check\n",
    "\n",
    "print(change(58))\n",
    "print(change(96))\n",
    "print(change(3))\n",
    "    "
   ]
  },
  {
   "cell_type": "markdown",
   "id": "fcb290db",
   "metadata": {},
   "source": [
    "3.\tმოცემულია string-ი რომელიც შედგება “(“ და “)“ ელემენტებისგან. დაწერეთ ფუნქცია რომელიც აბრუნებს ფრჩხილები არის თუ არა მათემატიკურად სწორად დასმული.\n",
    "            მაგ: “(()())” სწორი მიმდევრობაა,  “())()” არასწორია\n"
   ]
  },
  {
   "cell_type": "code",
   "execution_count": 34,
   "id": "aba02f85",
   "metadata": {},
   "outputs": [
    {
     "name": "stdout",
     "output_type": "stream",
     "text": [
      "False\n",
      "True\n",
      "False\n"
     ]
    }
   ],
   "source": [
    "def checkBrackets(equation):\n",
    "    check=0\n",
    "    for char in equation:\n",
    "        if char==\"(\":\n",
    "            check+=1\n",
    "        if char==\")\":\n",
    "            check-=1\n",
    "        if check<0:\n",
    "            return False\n",
    "    return not check\n",
    "\n",
    "\n",
    "#Check:  \n",
    "print(checkBrackets(\"(()()))\"))\n",
    "print(checkBrackets(\"(()())\"))\n",
    "print(checkBrackets(\"()()())\"))"
   ]
  },
  {
   "cell_type": "markdown",
   "id": "b6775ea9",
   "metadata": {},
   "source": [
    "4.\tგვაქვს n სართულიანი კიბე, ერთ მოქმედებაში შეგვიძლია ავიდეთ 1 ან 2 საფეხურით. დაწერეთ ფუნქცია რომელიც დაითვლის n სართულზე ასვლის ვარიანტების რაოდენობას."
   ]
  },
  {
   "cell_type": "code",
   "execution_count": 41,
   "id": "08b40b63",
   "metadata": {},
   "outputs": [
    {
     "data": {
      "text/plain": [
       "13"
      ]
     },
     "execution_count": 41,
     "metadata": {},
     "output_type": "execute_result"
    }
   ],
   "source": [
    "def upStairs(n):\n",
    "    if n==1:\n",
    "        return 1\n",
    "    if n==2:\n",
    "        return 2\n",
    "    else:\n",
    "        return upStairs(n-1)+upStairs(n-2)\n",
    "\n",
    "        \n",
    "#check\n",
    "\n",
    "upStairs(6)\n",
    "# 1 და 2 საფეხურის შემთხვევაში ადვილად დავადგენთ რომ 1 და 2 ვარიანტია.\n",
    "# ყოველ შმდეგ რაოდენობაზე ვიცით რომ პირველი მოქმედება შეიძლება იყოს 1 ან 2 საფეხური,\n",
    "# რის შემდეგაც დარჩება 1 ან 2 საფეხურით ნაკლები, რაც შეგვიძლია რეკურსიით დავთვალოთ \n",
    "        \n",
    "    "
   ]
  },
  {
   "cell_type": "markdown",
   "id": "ba864b87",
   "metadata": {
    "hide_input": false
   },
   "source": [
    "# SQL დავალება"
   ]
  },
  {
   "cell_type": "markdown",
   "id": "cd9e4c9a",
   "metadata": {},
   "source": [
    "5.\tგვაქვს teacher ცხრილი, რომელსაც აქვს შემდეგი მახასიათებლები: სახელი, გვარი, სქესი, საგანი.\n",
    "    გვაქვს pupil ცხრილი, რომელსაც აქვს შემდეგი მახასიათებლები: სახელი, გვარი, სქესი, კლასი.\n",
    "    ააგეთ ნებისმიერ რელაციურ ბაზაში ისეთი დამოკიდებულება, რომელიც საშუალებას მოგვცემს,\n",
    "    რომ მასწავლებელმა ასწავლოს რამოდენიმე მოსწავლეს და ამავდროულად მოსწავლეს \n",
    "    ჰყავდეს რამდენიმე მასწავლებელი (როგორც რეალურ ცხოვრებაში).\n",
    " \n",
    "1. დაწერეთ SQL რომელიც ააგებს შესაბამის table-ებს.\n",
    "2. დაწერეთ SQL რომელიც დააბრუნებს ყველა მასწავლებელს, რომელიც ასწავლის მოსწავლეს, რომელის სახელია: “გიორგი”.\n"
   ]
  },
  {
   "cell_type": "markdown",
   "id": "c5f655d9",
   "metadata": {},
   "source": [
    "##  დაწერეთ SQL რომელიც ააგებს შესაბამის table-ებს.\n",
    "\n",
    "``` sql\n",
    "CREATE TABLE teacher (\n",
    "\tteacherId int NOT NULL AUTO_INCREMENT,\n",
    "    firstName varchar(255),\n",
    "    lastName varchar(255),\n",
    "    gender ENUM('male','female'),\n",
    "   \n",
    "    PRIMARY KEY (teacherId)\n",
    "    \n",
    "    );\n",
    "    \n",
    "    CREATE TABLE pupil (\n",
    "\tpupilId int NOT NULL AUTO_INCREMENT,\n",
    "    firstName varchar(255),\n",
    "    lastName varchar(255),\n",
    "    gender ENUM('male','female'),\n",
    "    class Enum('1','2','3','4','5','6','7','8','9','10','11','12'),\n",
    "    PRIMARY KEY (pupilId)\n",
    "    );\n",
    "    CREATE INDEX class\n",
    "ON pupil (class);\n",
    "\n",
    "    \n",
    "    CREATE TABLE subject (\n",
    "\tid int NOT NULL AUTO_INCREMENT,\n",
    "    teacherId int,\n",
    "    classId Enum('1','2','3','4','5','6','7','8','9','10','11','12'),\n",
    "    subjectName ENUM('math','history','chemistry','biology','physics'),\n",
    "\tFOREIGN KEY (teacherId) REFERENCES teacher(teacherId),\n",
    "    FOREIGN KEY (classId) REFERENCES pupil(class),\n",
    "\tPRIMARY KEY (id)\n",
    "    );\n",
    "    \n",
    "  \n",
    "\n",
    "```\n",
    "\n"
   ]
  },
  {
   "cell_type": "markdown",
   "id": "51c28b7c",
   "metadata": {
    "heading_collapsed": true
   },
   "source": [
    "## EER Diagram\n",
    "\n",
    "   ![image info](./pupilTeacher.png)\n",
    "\n"
   ]
  },
  {
   "cell_type": "markdown",
   "id": "0dd26035",
   "metadata": {},
   "source": [
    "## დაწერეთ SQL რომელიც დააბრუნებს ყველა მასწავლებელს, რომელიც ასწავლის მოსწავლეს, რომელის სახელია: “გიორგი”.\n",
    "\n",
    "\n",
    "\n",
    "```sql \n",
    "\n",
    "SELECT  pupil.firstName,subject.teacherId,teacher.firstName \n",
    "FROM ((subject\n",
    "LEFT JOIN pupil \n",
    "ON pupil.class=subject.classId )\n",
    "LEFT JOIN teacher \n",
    "ON teacher.teacherId=subject.teacherId\n",
    ")\n",
    "WHERE pupil.firstName=\"giorgi\"\n",
    ";\n",
    "```"
   ]
  },
  {
   "cell_type": "code",
   "execution_count": null,
   "id": "4273e786",
   "metadata": {},
   "outputs": [],
   "source": [
    "სატესტო ბაზა შეგიძლიათ ნახოთ  db_files რეპო"
   ]
  },
  {
   "cell_type": "markdown",
   "id": "cf191b93",
   "metadata": {},
   "source": [
    "# API დავალება\n"
   ]
  },
  {
   "cell_type": "markdown",
   "id": "09d3167c",
   "metadata": {},
   "source": [
    "6.\tარსებობს ასეთი ფაბლიქ API https://api.chucknorris.io/ რომელიც რანდომად აბრუნებს ხუმრობებს ჩაკ ნორისზე. დაწერეთ თქვენი API ნებისმიერ პითონის web framework-ში როგორიცაა მაგ: Django, Flask, FastAPI ან სხვა ნებისმიერი შემდეგი ენდფოინთებით:\n",
    "1.\t/random_joke რომელიც წამოიღებს რანდომ ხუმრობას შესაბამისი API-დან და შეინახავს ლოკალურად(შეგიძლიათ შეინახოთ sqlite ბაზაში ან ტექსტურ ფაილში ნებისმიერი ფორამტით). აუცილებელია რომ შეინახოთ მინიმუმ ხუმრობის ტექსტი.\n",
    "2.\t/saved_joks რომელიც დააბრუნებს ყველა ლოკალურად შენახულ ხუმრობას(ბაზიდან ან ფაილიდან, იმის მიხედვით სად ინახავს პირველი ენდფოინთი) JSON ფორმატში.\n"
   ]
  },
  {
   "cell_type": "markdown",
   "id": "8f27a586",
   "metadata": {},
   "source": [
    "https://github.com/zura-papiashvili/chucknorrisJokes"
   ]
  }
 ],
 "metadata": {
  "hide_input": false,
  "kernelspec": {
   "display_name": "Python 3",
   "language": "python",
   "name": "python3"
  },
  "language_info": {
   "codemirror_mode": {
    "name": "ipython",
    "version": 3
   },
   "file_extension": ".py",
   "mimetype": "text/x-python",
   "name": "python",
   "nbconvert_exporter": "python",
   "pygments_lexer": "ipython3",
   "version": "3.8.5"
  }
 },
 "nbformat": 4,
 "nbformat_minor": 5
}
